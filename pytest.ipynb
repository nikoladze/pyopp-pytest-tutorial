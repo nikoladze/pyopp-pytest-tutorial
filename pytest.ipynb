{
 "cells": [
  {
   "cell_type": "markdown",
   "id": "af6823ec-615f-4e4a-9514-5d4120474d12",
   "metadata": {},
   "source": [
    "# Pytest tutorial\n",
    "\n",
    "Need to install `pytest ipytest jupyter-core` to run this notebook\n",
    "\n",
    "With `uv`, you can run this notebook with\n",
    "\n",
    "```\n",
    "uv tool run --with pytest --with ipytest --from jupyter jupyter lab\n",
    "```\n",
    "\n",
    "For further information on pytest look at https://docs.pytest.org/en/stable/how-to/index.html"
   ]
  },
  {
   "cell_type": "markdown",
   "id": "49aead06-c502-4700-9af1-760c8182004d",
   "metadata": {},
   "source": [
    "## Simple tests"
   ]
  },
  {
   "cell_type": "code",
   "execution_count": null,
   "id": "a23dc5ec-c182-4353-abfa-b9bcd5bc55f8",
   "metadata": {},
   "outputs": [],
   "source": [
    "%%writefile test_point.py\n",
    "\n",
    "from math import pi\n",
    "from point import Point2D\n",
    "\n",
    "def test_zero():\n",
    "    assert Point2D(1, 0).phi == 0\n",
    "\n",
    "def test_pi2():\n",
    "    assert Point2D(0, 1).phi == pi/2\n",
    "\n",
    "def test_pi():\n",
    "    assert Point2D(-1, 0).phi == pi\n",
    "\n",
    "def test_minuspi2():\n",
    "    assert Point2D(0, -1).phi == -pi/2"
   ]
  },
  {
   "cell_type": "code",
   "execution_count": null,
   "id": "4bc2daa5-03c4-4ac2-8c11-4cc9e2d0eb05",
   "metadata": {},
   "outputs": [],
   "source": [
    "!pytest test_point.py"
   ]
  },
  {
   "cell_type": "code",
   "execution_count": null,
   "id": "b5e0c83c-1484-4af5-bc51-c52443901bcd",
   "metadata": {},
   "outputs": [],
   "source": [
    "%%writefile point.py\n",
    "import math\n",
    "\n",
    "class Point2D:\n",
    "    def __init__(self, x, y):\n",
    "        self.x = y\n",
    "        self.y = x\n",
    "\n",
    "    @property\n",
    "    def phi(self):\n",
    "        return math.atan2(self.x, self.y)"
   ]
  },
  {
   "cell_type": "markdown",
   "id": "efc7d2f8-4ee8-40f8-8f5e-8ca767cde168",
   "metadata": {},
   "source": [
    "If test filenames follow pattern `*_test.py` or `test_*.py` pytest discovers them automatically:"
   ]
  },
  {
   "cell_type": "code",
   "execution_count": null,
   "id": "711f8e35-906c-44c9-92a0-3ed237d99a12",
   "metadata": {},
   "outputs": [],
   "source": [
    "!pytest"
   ]
  },
  {
   "cell_type": "markdown",
   "id": "088038e7-1518-4f9b-8ca8-4a23d1b5f4ba",
   "metadata": {},
   "source": [
    "Now fix the flipped `x` and `y` assignment in `Point2D` and run again. Then fix the code to pass the tests again."
   ]
  },
  {
   "cell_type": "markdown",
   "id": "a87eec7c-7983-4fc1-9f4c-053fb94e788a",
   "metadata": {},
   "source": [
    "Pytest reports differences nicely also for lists/dicts/nested things:"
   ]
  },
  {
   "cell_type": "code",
   "execution_count": null,
   "id": "d37f7947-27bc-42b3-a000-ce3bcf51aaf3",
   "metadata": {},
   "outputs": [],
   "source": [
    "%%writefile test_nested.py\n",
    "\n",
    "def test_nested():\n",
    "    a = {}\n",
    "    a[\"bla\"] = [1, 2, 3]\n",
    "    a[\"blub\"] = {\"a\": 8, \"b\": [4, 5]}\n",
    "    assert a == {\"bla\": [1, 2, 3], \"blub\": {\"a\": None, \"b\": [4, 6]}}"
   ]
  },
  {
   "cell_type": "code",
   "execution_count": null,
   "id": "edaab160-9075-4633-b876-903fdece862b",
   "metadata": {},
   "outputs": [],
   "source": [
    "!pytest test_nested.py"
   ]
  },
  {
   "cell_type": "markdown",
   "id": "7a1541c9-dc4b-4613-91c6-c1a1ea400e56",
   "metadata": {},
   "source": [
    "## Command line options"
   ]
  },
  {
   "cell_type": "code",
   "execution_count": null,
   "id": "57d9a744-2a81-4c05-b556-03860ee4574e",
   "metadata": {},
   "outputs": [],
   "source": [
    "%%writefile tests2.py\n",
    "\n",
    "def test_print_something():\n",
    "    print(\"printing something\")\n",
    "\n",
    "def test_print_something_else():\n",
    "    print(\"printing something else\")\n",
    "\n",
    "def test_do_nothing():\n",
    "    pass"
   ]
  },
  {
   "cell_type": "code",
   "execution_count": null,
   "id": "5284022d-fd14-42a9-85be-9f60cf7137c7",
   "metadata": {},
   "outputs": [],
   "source": [
    "!pytest tests2.py"
   ]
  },
  {
   "cell_type": "markdown",
   "id": "3a5106a1-09b6-45d5-88f3-0712e2e466a0",
   "metadata": {},
   "source": [
    "Use `-s` to deactivate output capturing (output will also be printed for failing tests)"
   ]
  },
  {
   "cell_type": "code",
   "execution_count": null,
   "id": "8314a21d-2cae-4659-8bb2-af4548f3bb58",
   "metadata": {},
   "outputs": [],
   "source": [
    "!pytest -s tests2.py"
   ]
  },
  {
   "cell_type": "markdown",
   "id": "924fcc5d-e7f8-4457-8fb8-0ff7704a7761",
   "metadata": {},
   "source": [
    "Use `-k` to filter tests"
   ]
  },
  {
   "cell_type": "code",
   "execution_count": null,
   "id": "513b504a-aece-4333-a15f-8ba27e185368",
   "metadata": {},
   "outputs": [],
   "source": [
    "!pytest -k nothing tests2.py"
   ]
  },
  {
   "cell_type": "markdown",
   "id": "5ccab538-5cad-45d0-a21d-47304aafccc9",
   "metadata": {},
   "source": [
    "`-v` for verbose output"
   ]
  },
  {
   "cell_type": "code",
   "execution_count": null,
   "id": "3f71efad-d802-4f07-8fdd-23a5af026db4",
   "metadata": {},
   "outputs": [],
   "source": [
    "!pytest -v tests2.py"
   ]
  },
  {
   "cell_type": "markdown",
   "id": "6d4510dd-c334-405a-a43f-ec900c802365",
   "metadata": {},
   "source": [
    "And more ... (e.g. `--lf` to run last failed test, `--pdb` to drop into a debugger after an exception)"
   ]
  },
  {
   "cell_type": "code",
   "execution_count": null,
   "id": "569ef832-4363-4cb8-a391-f91dd4ee6ec3",
   "metadata": {},
   "outputs": [],
   "source": [
    "!pytest --help"
   ]
  },
  {
   "cell_type": "markdown",
   "id": "7ed0c791-91e0-47cc-89ae-c4aa83b5f916",
   "metadata": {},
   "source": [
    "## Fixtures"
   ]
  },
  {
   "cell_type": "markdown",
   "id": "94aa5688-9c57-402f-bae7-41df1c1bc9c3",
   "metadata": {},
   "source": [
    "From here on will use `ipytest` to directly run pytest in notebook cells"
   ]
  },
  {
   "cell_type": "code",
   "execution_count": null,
   "id": "d0977b75-eec4-40f2-849c-86ca1b79b37d",
   "metadata": {},
   "outputs": [],
   "source": [
    "import ipytest\n",
    "ipytest.autoconfig()"
   ]
  },
  {
   "cell_type": "code",
   "execution_count": null,
   "id": "bd9f8be1-48b3-4290-9ddd-565982deab6e",
   "metadata": {},
   "outputs": [],
   "source": [
    "%%ipytest\n",
    "\n",
    "import pytest\n",
    "\n",
    "@pytest.fixture\n",
    "def hans():\n",
    "    return 42\n",
    "\n",
    "def test_hans(hans):\n",
    "    assert hans == 42"
   ]
  },
  {
   "cell_type": "markdown",
   "id": "2feb651e-9657-4ca8-8ded-30908fa5d6af",
   "metadata": {},
   "source": [
    "Things to try:\n",
    "- make the test fail\n",
    "- use `yield` instead of return and run some *set up* (preparation) before and some *tear down* (clean up) afterwards\n",
    "- use a fixture within a fixture\n",
    "- use multiple fixtures in one test"
   ]
  },
  {
   "cell_type": "markdown",
   "id": "bdf778a2-97ce-4c8f-9232-92c924f62554",
   "metadata": {},
   "source": [
    "### Built-in fixtures\n",
    "See https://docs.pytest.org/en/stable/reference/fixtures.html#built-in-fixtures"
   ]
  },
  {
   "cell_type": "markdown",
   "id": "8e241703-3193-455b-be53-daa28d547a17",
   "metadata": {},
   "source": [
    "E.g. `tmp_path` for per-test temporary directories"
   ]
  },
  {
   "cell_type": "code",
   "execution_count": null,
   "id": "8b78e498-ac9e-47b8-a664-68e2db280916",
   "metadata": {},
   "outputs": [],
   "source": [
    "%%ipytest\n",
    "\n",
    "def test_in_temporary_directory(tmp_path):\n",
    "    with open(tmp_path / \"hans.txt\", \"w\") as f:\n",
    "        f.write(\"Bla!\")\n",
    "\n",
    "    with open(tmp_path / \"hans.txt\") as f:\n",
    "        assert f.read() == \"Bla!\"\n",
    "\n",
    "def test_another_temporary_directory(tmp_path):\n",
    "    with open(tmp_path / \"hans.txt\") as f:\n",
    "        assert f.read() == \"Bla\" # should fail"
   ]
  },
  {
   "cell_type": "markdown",
   "id": "4cf6c021-ff6d-4c2c-bb86-0475f975c45c",
   "metadata": {},
   "source": [
    "## Testing floating point results\n",
    "Often we don't need results for floating point numbers to match exactly, but just within sufficient numerical precision to be robust to changes in the algorithm. One can use `math.isclose` or `numpy.isclose/allclose` but also pytest has functionality for this.\n",
    "\n",
    "Assume we change the implementation for our phi function:"
   ]
  },
  {
   "cell_type": "code",
   "execution_count": null,
   "id": "fa2bc0f3-8078-47b9-8b52-65cf614ceb3b",
   "metadata": {},
   "outputs": [],
   "source": [
    "from dataclasses import dataclass\n",
    "import math\n",
    "\n",
    "@dataclass\n",
    "class Point2D:\n",
    "    x: float\n",
    "    y: float\n",
    "\n",
    "    @property\n",
    "    def r(self):\n",
    "        return math.sqrt(self.x**2 + self.y**2)\n",
    "\n",
    "    @property\n",
    "    def phi(self):\n",
    "        return math.acos(self.x / self.r)"
   ]
  },
  {
   "cell_type": "code",
   "execution_count": null,
   "id": "2b4beb80-ba4e-4285-98ff-3bb6e2b2344d",
   "metadata": {},
   "outputs": [],
   "source": [
    "%%ipytest\n",
    "\n",
    "def test_0p1():\n",
    "    assert Point2D(1, 0.1).phi == math.atan2(0.1, 1)"
   ]
  },
  {
   "cell_type": "markdown",
   "id": "fa963947-f82a-46c9-94c8-b259e9840c7f",
   "metadata": {},
   "source": [
    "We can use `pytest.approx` instead:"
   ]
  },
  {
   "cell_type": "code",
   "execution_count": null,
   "id": "d21355d0-cf36-44c0-9663-425e78f938fb",
   "metadata": {},
   "outputs": [],
   "source": [
    "Point2D(1, 0.1).phi == pytest.approx(math.atan2(0.1, 1))"
   ]
  },
  {
   "cell_type": "markdown",
   "id": "931e58b4-2bab-4cd2-965d-d9123b3dc1ae",
   "metadata": {},
   "source": [
    "Precision can be adjusted:"
   ]
  },
  {
   "cell_type": "code",
   "execution_count": null,
   "id": "d8a918e9-b376-4bd0-8a42-7bf283a888f0",
   "metadata": {},
   "outputs": [],
   "source": [
    "pytest.approx(0.1), pytest.approx(0.1, rel=0.1), pytest.approx(1, abs=1)"
   ]
  },
  {
   "cell_type": "code",
   "execution_count": null,
   "id": "e6ce21e6-c782-4ff2-bf7b-1367005b91c0",
   "metadata": {},
   "outputs": [],
   "source": [
    "0.091 == pytest.approx(0.1, rel=0.1)"
   ]
  },
  {
   "cell_type": "markdown",
   "id": "26173beb-414d-4a45-b6cd-f7962288b21c",
   "metadata": {},
   "source": [
    "Also works for lists:"
   ]
  },
  {
   "cell_type": "code",
   "execution_count": null,
   "id": "cd62c1a4-625c-41ce-84ed-6735263114a2",
   "metadata": {},
   "outputs": [],
   "source": [
    "[1.05, 2.15] == pytest.approx([1.1, 2.1], abs=0.1)"
   ]
  },
  {
   "cell_type": "markdown",
   "id": "0402ada0-44ad-4be4-adf1-e72a8fa44118",
   "metadata": {},
   "source": [
    "## Doctests"
   ]
  },
  {
   "cell_type": "code",
   "execution_count": null,
   "id": "dbbb8b1c-52c7-442b-ba30-b83d69e857f7",
   "metadata": {},
   "outputs": [],
   "source": [
    "%%writefile module_with_doctest.py\n",
    "\n",
    "def atan2(y, x):\n",
    "    \"\"\"Return the arctangent of x,y\n",
    "    >>> atan2(0, 0)\n",
    "    0.0\n",
    "    >>> atan2(1, 0)\n",
    "    1.5707963267948966\n",
    "    >>> atan2(0, -1)\n",
    "    3.141592653589793\n",
    "    >>> atan2(-1, 0)\n",
    "    1.5707963267948966\n",
    "    \"\"\"\n",
    "    import math\n",
    "    return math.atan2(y, x)"
   ]
  },
  {
   "cell_type": "code",
   "execution_count": null,
   "id": "c78d2a9d-e89d-49de-80a0-c52fcf4b3aa8",
   "metadata": {},
   "outputs": [],
   "source": [
    "!pytest --doctest-modules module_with_doctest.py"
   ]
  },
  {
   "cell_type": "markdown",
   "id": "3f0be89a-f07a-4a19-88bf-8cc1bff59b82",
   "metadata": {},
   "source": [
    "## Parametrized tests"
   ]
  },
  {
   "cell_type": "code",
   "execution_count": null,
   "id": "0da54407-f695-46c6-85e0-b41c0f6b8bdf",
   "metadata": {},
   "outputs": [],
   "source": [
    "from math import pi\n",
    "from point import Point2D"
   ]
  },
  {
   "cell_type": "code",
   "execution_count": null,
   "id": "07e003b2-caa1-477b-b415-4b4e05e3b6e2",
   "metadata": {},
   "outputs": [],
   "source": [
    "%%ipytest\n",
    "\n",
    "def test_phi():\n",
    "    for x, y, phi in [(1, 0, 0), (0, 1, pi/2), (-1, 0, pi), (0, -1, -pi/2)]:\n",
    "        assert Point2D(x, y).phi == phi"
   ]
  },
  {
   "cell_type": "code",
   "execution_count": null,
   "id": "f82bc858-056b-47fe-a3da-e7fb7726de45",
   "metadata": {},
   "outputs": [],
   "source": [
    "%%ipytest\n",
    "\n",
    "@pytest.mark.parametrize(\"x,y,phi\", [(1, 0, 0), (0, 1, pi/2), (-1, 0, pi), (0, -1, pi/2)])\n",
    "def test_phi(x, y, phi):\n",
    "    assert Point2D(x, y).phi == phi"
   ]
  },
  {
   "cell_type": "markdown",
   "id": "6ea3548d-06c2-44c2-8e25-6cbe515bea77",
   "metadata": {},
   "source": [
    "More on marking: https://docs.pytest.org/en/stable/how-to/mark.html"
   ]
  },
  {
   "cell_type": "markdown",
   "id": "8e02daf0-863e-4ac8-953b-160014ab91c8",
   "metadata": {},
   "source": [
    "## Test for an exception to occur"
   ]
  },
  {
   "cell_type": "code",
   "execution_count": null,
   "id": "dd59f42b-eb44-4288-8087-bedd33107450",
   "metadata": {},
   "outputs": [],
   "source": [
    "%%ipytest\n",
    "\n",
    "def test_raises():\n",
    "    with pytest.raises(ZeroDivisionError):\n",
    "        1 / 0\n",
    "\n",
    "def some_function():\n",
    "    raise ValueError(\"Wrong value for Hans\")\n",
    "\n",
    "def test_specific_value_error():\n",
    "    with pytest.raises(ValueError, match=\".*Hans.*\"):\n",
    "        some_function()"
   ]
  },
  {
   "cell_type": "markdown",
   "id": "30028bbe-8829-4f33-a0b9-f98fd7616e72",
   "metadata": {},
   "source": [
    "## Mocking and Monkeypatching\n",
    "\n",
    "https://docs.pytest.org/en/stable/how-to/monkeypatch.html\n",
    "\n",
    "Temporarily modify global objects - e.g.\n",
    "- overwrite defaults\n",
    "- overwrite environment variables\n",
    "- imitate interfaces that do things we may not want in a testing environment, e.g.\n",
    "    - interact with a database\n",
    "    - do a http request\n",
    "    - ..."
   ]
  },
  {
   "cell_type": "code",
   "execution_count": null,
   "id": "59d823dc-f5c9-4c73-a88e-514dad5f113e",
   "metadata": {},
   "outputs": [],
   "source": [
    "import requests\n",
    "\n",
    "def get_json(url):\n",
    "    \"\"\"Takes a URL, and returns the JSON.\"\"\"\n",
    "    r = requests.get(url)\n",
    "    return r.json()"
   ]
  },
  {
   "cell_type": "code",
   "execution_count": null,
   "id": "f7e4b1c8-86b0-47f8-bb9c-16f63c9e55a2",
   "metadata": {},
   "outputs": [],
   "source": [
    "%%ipytest\n",
    "\n",
    "def test_get_json(monkeypatch):\n",
    "    class MockResponse:\n",
    "        def json(self):\n",
    "            return {\"answer\": 42}\n",
    "\n",
    "    # temporarily patch requests.get for this test\n",
    "    monkeypatch.setattr(requests, \"get\", lambda url: MockResponse())\n",
    "\n",
    "    result = get_json(\"http://dummy-url\")\n",
    "    assert result[\"answer\"] == 42\n",
    "\n",
    "def test_monty_python():\n",
    "    # here requests.get will not be patched\n",
    "    result = get_json(\"https://www.wikidata.org/w/api.php?action=wbgetentities&ids=Q16402&format=json\")\n",
    "    assert result[\"entities\"][\"Q16402\"][\"labels\"][\"en\"][\"value\"] == \"Monty Python\""
   ]
  },
  {
   "cell_type": "markdown",
   "id": "5f18f004-50ad-47a3-a42f-bc1cc3307ac9",
   "metadata": {},
   "source": [
    "## How to organize tests in a python package\n",
    "\n",
    "### Directory structure\n",
    "Typically in a `src` layout, have a directory structure like:"
   ]
  },
  {
   "cell_type": "code",
   "execution_count": null,
   "id": "4c01f29d-d833-4125-bbf4-74c55723d043",
   "metadata": {},
   "outputs": [],
   "source": [
    "!mkdir -p mypackage/src\n",
    "!mkdir -p mypackage/tests"
   ]
  },
  {
   "cell_type": "markdown",
   "id": "9f58dff4-a71e-48fd-8f6c-5887e4197678",
   "metadata": {},
   "source": [
    "When writing your `pyproject.toml`, good idea to put `pytest` in a [dependency group](https://packaging.python.org/en/latest/specifications/dependency-groups/) for development, e.g. `dev`"
   ]
  },
  {
   "cell_type": "code",
   "execution_count": null,
   "id": "de0eb13f-32ac-4d33-8bc3-41d95a0129c3",
   "metadata": {},
   "outputs": [],
   "source": [
    "%%writefile mypackage/pyproject.toml\n",
    "\n",
    "[project]\n",
    "name = \"mypackage\"\n",
    "version = \"0.0\"\n",
    "\n",
    "[dependency-groups]\n",
    "dev = [\"pytest\"]"
   ]
  },
  {
   "cell_type": "code",
   "execution_count": null,
   "id": "a7326995-2e69-43d6-8e96-d33f30ccf87c",
   "metadata": {},
   "outputs": [],
   "source": [
    "%%writefile mypackage/src/point.py\n",
    "\n",
    "import math\n",
    "\n",
    "class Point2D:\n",
    "    def __init__(self, x, y):\n",
    "        self.x = x\n",
    "        self.y = y\n",
    "\n",
    "    @property\n",
    "    def phi(self):\n",
    "        return math.atan2(self.y, self.x)"
   ]
  },
  {
   "cell_type": "code",
   "execution_count": null,
   "id": "616e6813-f474-457b-8b1b-e0d2ecc8c35c",
   "metadata": {},
   "outputs": [],
   "source": [
    "%%writefile mypackage/tests/test_phi.py\n",
    "import pytest\n",
    "from math import pi\n",
    "from point import Point2D\n",
    "\n",
    "@pytest.mark.parametrize(\"x,y,phi\", [(1, 0, 0), (0, 1, pi/2), (-1, 0, pi), (0, -1, -pi/2)])\n",
    "def test_phi(x, y, phi):\n",
    "    assert Point2D(x, y).phi == phi"
   ]
  },
  {
   "cell_type": "code",
   "execution_count": null,
   "id": "ae3bc065-6977-4301-9129-b4c59c7920f1",
   "metadata": {},
   "outputs": [],
   "source": [
    "!tree mypackage/"
   ]
  },
  {
   "cell_type": "markdown",
   "id": "a5a57894-ffde-452d-bb3a-25e90aa9bea0",
   "metadata": {},
   "source": [
    "Now, in a terminal, install the package in a venv and execute the tests, e.g.\n",
    "\n",
    "```bash\n",
    "cd mypackage\n",
    "python -m venv .venv\n",
    "source .venv/bin/activate\n",
    "pip install --upgrade pip # maybe needed to have recent enough version for dependency groups (next line)\n",
    "pip install --group dev -e .\n",
    "pytest tests\n",
    "```"
   ]
  },
  {
   "cell_type": "markdown",
   "id": "a0c2e134-ba14-48e7-8bf9-00ffcb46724f",
   "metadata": {},
   "source": [
    "### conftest.py\n",
    "Put fixtures that are used by multiple test files here (not recommended to use imports!)\n",
    "\n",
    "more info https://docs.pytest.org/en/stable/reference/fixtures.html#conftest-py-sharing-fixtures-across-multiple-files\n",
    "\n",
    "### pytest.ini\n",
    "https://docs.pytest.org/en/stable/reference/reference.html#configuration-options\n",
    "\n",
    "Can e.g. put default command line arguments and test paths (e.g. restrict to only search in \"tests\")"
   ]
  },
  {
   "cell_type": "code",
   "execution_count": null,
   "id": "c384a528-9bf0-49ea-90c7-3851905ea2f0",
   "metadata": {},
   "outputs": [],
   "source": [
    "%%writefile mypackage/pytest.ini\n",
    "[pytest]\n",
    "addopts = -v\n",
    "testpaths = tests"
   ]
  },
  {
   "cell_type": "markdown",
   "id": "4f36d1f1-08b3-4a0a-ba09-90d6731d9607",
   "metadata": {},
   "source": [
    "Alternative: put configuration in a `[tool.pytest.ini_options]` section in `pyproject.toml`"
   ]
  }
 ],
 "metadata": {
  "kernelspec": {
   "display_name": "Python 3 (ipykernel)",
   "language": "python",
   "name": "python3"
  },
  "language_info": {
   "codemirror_mode": {
    "name": "ipython",
    "version": 3
   },
   "file_extension": ".py",
   "mimetype": "text/x-python",
   "name": "python",
   "nbconvert_exporter": "python",
   "pygments_lexer": "ipython3",
   "version": "3.12.8"
  }
 },
 "nbformat": 4,
 "nbformat_minor": 5
}
